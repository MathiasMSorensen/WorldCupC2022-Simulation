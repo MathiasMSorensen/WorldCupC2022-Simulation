{
 "cells": [
  {
   "cell_type": "code",
   "execution_count": 1,
   "metadata": {},
   "outputs": [
    {
     "name": "stdout",
     "output_type": "stream",
     "text": [
      "intercept: [0.48757177]\n",
      "slope: [-0.29805232]\n"
     ]
    }
   ],
   "source": [
    "import numpy as np\n",
    "import pandas as pd\n",
    "from sklearn.linear_model import LinearRegression\n",
    "\n",
    "# source: Oddsportal.com\n",
    "df = pd.read_csv(\"odds_from_last_playoffs\")\n",
    "model = LinearRegression()\n",
    "\n",
    "model.fit(df[[\"max_prob\"]], df[[\"prop_X\"]])\n",
    "print(f\"intercept: {model.intercept_}\")\n",
    "print(f\"slope: {model.coef_[0]}\")"
   ]
  }
 ],
 "metadata": {
  "kernelspec": {
   "display_name": "Python 3.7.9 64-bit",
   "language": "python",
   "name": "python3"
  },
  "language_info": {
   "codemirror_mode": {
    "name": "ipython",
    "version": 3
   },
   "file_extension": ".py",
   "mimetype": "text/x-python",
   "name": "python",
   "nbconvert_exporter": "python",
   "pygments_lexer": "ipython3",
   "version": "3.7.9"
  },
  "orig_nbformat": 4,
  "vscode": {
   "interpreter": {
    "hash": "548bebda6a0db2652a689e304cb19a8a55293bc3af81438106940bc6d9b9dcf4"
   }
  }
 },
 "nbformat": 4,
 "nbformat_minor": 2
}
